{
 "cells": [
  {
   "cell_type": "markdown",
   "metadata": {},
   "source": [
    "Taken from http://holoviews.org/Tutorials/Showcase.html"
   ]
  },
  {
   "cell_type": "code",
   "execution_count": null,
   "metadata": {},
   "outputs": [],
   "source": [
    "import holoviews as hv\n",
    "import numpy as np\n",
    "\n",
    "hv.notebook_extension()"
   ]
  },
  {
   "cell_type": "code",
   "execution_count": null,
   "metadata": {
    "collapsed": true
   },
   "outputs": [],
   "source": [
    "def sine(x, phase=0, freq=100):\n",
    "    return np.sin((freq * x + phase))"
   ]
  },
  {
   "cell_type": "code",
   "execution_count": null,
   "metadata": {
    "collapsed": true
   },
   "outputs": [],
   "source": [
    "phases = np.linspace(0, 2*np.pi, 11)\n",
    "freqs = np.linspace(50, 150, 5)"
   ]
  },
  {
   "cell_type": "code",
   "execution_count": null,
   "metadata": {
    "collapsed": true
   },
   "outputs": [],
   "source": [
    "dist = np.linspace(-0.5, 0.5, 202)\n",
    "x, y = np.meshgrid(dist, dist)\n",
    "grid = (x**2 + y**2)"
   ]
  },
  {
   "cell_type": "code",
   "execution_count": null,
   "metadata": {},
   "outputs": [],
   "source": [
    "freq1 = ( \n",
    "    hv.Image(sine(grid, freq=50)) \n",
    "    + hv.Curve(zip(dist, sine(dist**2, freq=50))))\n",
    "freq2 = (\n",
    "    hv.Image(sine(grid, freq=200))\n",
    "    + hv.Curve(zip(dist, sine(dist**2, freq=200))))\n",
    "\n",
    "(freq1+freq2).cols(2)\n"
   ]
  },
  {
   "cell_type": "code",
   "execution_count": null,
   "metadata": {},
   "outputs": [],
   "source": [
    "freq1.data"
   ]
  },
  {
   "cell_type": "code",
   "execution_count": null,
   "metadata": {
    "collapsed": true
   },
   "outputs": [],
   "source": [
    "dimensions = ['Phase', 'Frequency']\n",
    "keys = [(p,f) for p in phases for f in freqs]"
   ]
  },
  {
   "cell_type": "code",
   "execution_count": null,
   "metadata": {},
   "outputs": [],
   "source": [
    "items = [\n",
    "    (k, hv.Image(sine(grid, *k), vdims=['Amplitude']))\n",
    "    for k in keys\n",
    "    ]\n",
    "circular_wave = hv.HoloMap(items, kdims=dimensions)\n",
    "circular_wave"
   ]
  },
  {
   "cell_type": "code",
   "execution_count": null,
   "metadata": {},
   "outputs": [],
   "source": [
    "items = [\n",
    "    (k, hv.Curve(zip(dist, sine(dist**2, *k)))) for k in keys\n",
    "]\n",
    "sections = hv.HoloMap(items, kdims=dimensions)\n",
    "circular_wave+sections"
   ]
  },
  {
   "cell_type": "code",
   "execution_count": null,
   "metadata": {},
   "outputs": [],
   "source": [
    "sample_pos= (0, 0.25)\n",
    "annotated = circular_wave * hv.Points([sample_pos])\n",
    "sample = circular_wave.sample(\n",
    "    samples=[sample_pos]).to.curve('Phase', 'Amplitude', ['Frequency'])\n",
    "\n",
    "annotated+sample"
   ]
  },
  {
   "cell_type": "code",
   "execution_count": null,
   "metadata": {
    "collapsed": true
   },
   "outputs": [],
   "source": [
    "%output holomap='gif'"
   ]
  },
  {
   "cell_type": "code",
   "execution_count": null,
   "metadata": {},
   "outputs": [],
   "source": [
    "%%opts Image (cmap='gray') Contours (color='r')\n",
    "\n",
    "from holoviews.operation import contours, threshold, gradient\n",
    "\n",
    "m = hv.HoloMap(\n",
    "    [(p, hv.Image(sine(grid, phase=p))) for p in phases],\n",
    "    kdims=['Phase'])\n",
    "(contours(m, levels=[0.5]) \n",
    " + threshold(m, level=0.5) \n",
    " + gradient(m).hist(bin_range=(0,0.7)))"
   ]
  },
  {
   "cell_type": "code",
   "execution_count": null,
   "metadata": {},
   "outputs": [],
   "source": [
    "%%opts Image (cmap='RdYlGn') Curve (color='g')\n",
    "(freq1 + freq2).cols(2)"
   ]
  },
  {
   "cell_type": "code",
   "execution_count": null,
   "metadata": {},
   "outputs": [],
   "source": [
    "red_wave = circular_wave(options={'Image':{'style':{'cmap':'RdGy'}}})\n",
    "red_wave"
   ]
  },
  {
   "cell_type": "code",
   "execution_count": null,
   "metadata": {},
   "outputs": [],
   "source": [
    "comparison = (hv.Image(sine(grid)) \n",
    "              + hv.Image(sine(grid, phase=np.pi)*0.02))\n",
    "comparison"
   ]
  },
  {
   "cell_type": "code",
   "execution_count": null,
   "metadata": {},
   "outputs": [],
   "source": [
    "%opts Image {+axiswise} (cmap='gray')\n",
    "comparison"
   ]
  },
  {
   "cell_type": "code",
   "execution_count": null,
   "metadata": {
    "collapsed": true
   },
   "outputs": [],
   "source": []
  },
  {
   "cell_type": "code",
   "execution_count": null,
   "metadata": {
    "collapsed": true
   },
   "outputs": [],
   "source": []
  }
 ],
 "metadata": {
  "kernelspec": {
   "display_name": "Python 3",
   "language": "python",
   "name": "python3"
  },
  "language_info": {
   "codemirror_mode": {
    "name": "ipython",
    "version": 3
   },
   "file_extension": ".py",
   "mimetype": "text/x-python",
   "name": "python",
   "nbconvert_exporter": "python",
   "pygments_lexer": "ipython3",
   "version": "3.6.1"
  }
 },
 "nbformat": 4,
 "nbformat_minor": 2
}
